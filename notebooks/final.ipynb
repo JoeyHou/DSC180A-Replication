{
 "cells": [
  {
   "cell_type": "markdown",
   "metadata": {},
   "source": [
    "# Replication Results - Final Analysis\n",
    "- 1. Try to randomly pick 100 multi-word phrases whose scores are greater than 0.5. Manually check them and see what's the percentage of high-quality phrases.\n",
    "- 2. Since these 100 multi-word phrases can be ranked by their scores, please plot a precision-recall curve too.\n",
    "- 3. Try to run the word2vec code on the phrasal segmentation results to obtain phrase embedding. \n",
    "- 4. Pick 3 high-quality phrases from your previous annotations in step 1, run a similarity search among all multi-word phrases whose scores are greater than 0.5, and report the top-5 results. Comment on the results. \n",
    "\n"
   ]
  },
  {
   "cell_type": "code",
   "execution_count": 34,
   "metadata": {
    "scrolled": true
   },
   "outputs": [],
   "source": [
    "# !pip install gensim"
   ]
  },
  {
   "cell_type": "code",
   "execution_count": 5,
   "metadata": {},
   "outputs": [],
   "source": [
    "from os import listdir\n",
    "import pandas as pd\n",
    "from sklearn.metrics import precision_recall_curve\n",
    "import matplotlib.pyplot as plt\n",
    "import re\n",
    "from gensim.models import Word2Vec\n",
    "import pickle\n",
    "import numpy as np"
   ]
  },
  {
   "cell_type": "code",
   "execution_count": 2,
   "metadata": {},
   "outputs": [],
   "source": [
    "out_file_dir = '../data/out/DBLP/'\n",
    "data_dir = '../data/'"
   ]
  },
  {
   "cell_type": "code",
   "execution_count": 3,
   "metadata": {},
   "outputs": [
    {
     "ename": "FileNotFoundError",
     "evalue": "[Errno 2] No such file or directory: '../data/out/DBLP/'",
     "output_type": "error",
     "traceback": [
      "\u001b[0;31m\u001b[0m",
      "\u001b[0;31mFileNotFoundError\u001b[0mTraceback (most recent call last)",
      "\u001b[0;32m<ipython-input-3-a47ce2179fdb>\u001b[0m in \u001b[0;36m<module>\u001b[0;34m\u001b[0m\n\u001b[1;32m      1\u001b[0m \u001b[0mphrases\u001b[0m \u001b[0;34m=\u001b[0m \u001b[0;34m[\u001b[0m\u001b[0;34m]\u001b[0m\u001b[0;34m\u001b[0m\u001b[0;34m\u001b[0m\u001b[0m\n\u001b[1;32m      2\u001b[0m \u001b[0mscores\u001b[0m \u001b[0;34m=\u001b[0m \u001b[0;34m[\u001b[0m\u001b[0;34m]\u001b[0m\u001b[0;34m\u001b[0m\u001b[0;34m\u001b[0m\u001b[0m\n\u001b[0;32m----> 3\u001b[0;31m \u001b[0;32mfor\u001b[0m \u001b[0mf\u001b[0m \u001b[0;32min\u001b[0m \u001b[0mlistdir\u001b[0m\u001b[0;34m(\u001b[0m\u001b[0mout_file_dir\u001b[0m\u001b[0;34m)\u001b[0m\u001b[0;34m:\u001b[0m\u001b[0;34m\u001b[0m\u001b[0;34m\u001b[0m\u001b[0m\n\u001b[0m\u001b[1;32m      4\u001b[0m     \u001b[0;32mif\u001b[0m \u001b[0;34m'multi-words'\u001b[0m \u001b[0;32min\u001b[0m \u001b[0mf\u001b[0m\u001b[0;34m:\u001b[0m\u001b[0;34m\u001b[0m\u001b[0;34m\u001b[0m\u001b[0m\n\u001b[1;32m      5\u001b[0m         \u001b[0mmulti_words\u001b[0m \u001b[0;34m=\u001b[0m \u001b[0mopen\u001b[0m\u001b[0;34m(\u001b[0m\u001b[0mout_file_dir\u001b[0m \u001b[0;34m+\u001b[0m \u001b[0mf\u001b[0m\u001b[0;34m,\u001b[0m \u001b[0;34m'r'\u001b[0m\u001b[0;34m)\u001b[0m\u001b[0;34m\u001b[0m\u001b[0;34m\u001b[0m\u001b[0m\n",
      "\u001b[0;31mFileNotFoundError\u001b[0m: [Errno 2] No such file or directory: '../data/out/DBLP/'"
     ]
    }
   ],
   "source": [
    "phrases = []\n",
    "scores = []\n",
    "for f in listdir(out_file_dir):\n",
    "    if 'multi-words' in f:\n",
    "        multi_words = open(out_file_dir + f, 'r')\n",
    "        for line in multi_words:\n",
    "            line_txt = line.split()\n",
    "            score = line_txt[0]\n",
    "            scores.append(float(score))\n",
    "            phrase = ' '.join(line_txt[1:])\n",
    "            phrases.append(phrase)\n",
    "        break\n",
    "all_scores = pd.DataFrame({'phrase': phrases, 'score': scores})"
   ]
  },
  {
   "cell_type": "code",
   "execution_count": null,
   "metadata": {},
   "outputs": [],
   "source": [
    "all_scores.shape"
   ]
  },
  {
   "cell_type": "code",
   "execution_count": null,
   "metadata": {},
   "outputs": [],
   "source": []
  },
  {
   "cell_type": "markdown",
   "metadata": {},
   "source": [
    "- **1. Randomly draw 100 phrases and check quality**"
   ]
  },
  {
   "cell_type": "code",
   "execution_count": 5,
   "metadata": {},
   "outputs": [
    {
     "data": {
      "text/html": [
       "<div>\n",
       "<style scoped>\n",
       "    .dataframe tbody tr th:only-of-type {\n",
       "        vertical-align: middle;\n",
       "    }\n",
       "\n",
       "    .dataframe tbody tr th {\n",
       "        vertical-align: top;\n",
       "    }\n",
       "\n",
       "    .dataframe thead th {\n",
       "        text-align: right;\n",
       "    }\n",
       "</style>\n",
       "<table border=\"1\" class=\"dataframe\">\n",
       "  <thead>\n",
       "    <tr style=\"text-align: right;\">\n",
       "      <th></th>\n",
       "      <th>phrase</th>\n",
       "      <th>score</th>\n",
       "    </tr>\n",
       "  </thead>\n",
       "  <tbody>\n",
       "    <tr>\n",
       "      <th>0</th>\n",
       "      <td>grocery shopping</td>\n",
       "      <td>0.965547</td>\n",
       "    </tr>\n",
       "    <tr>\n",
       "      <th>1</th>\n",
       "      <td>class diagrams</td>\n",
       "      <td>0.943706</td>\n",
       "    </tr>\n",
       "    <tr>\n",
       "      <th>2</th>\n",
       "      <td>minwise hashing</td>\n",
       "      <td>0.940578</td>\n",
       "    </tr>\n",
       "    <tr>\n",
       "      <th>3</th>\n",
       "      <td>parallel discrete event simulation</td>\n",
       "      <td>0.913498</td>\n",
       "    </tr>\n",
       "    <tr>\n",
       "      <th>4</th>\n",
       "      <td>stock exchanges</td>\n",
       "      <td>0.902545</td>\n",
       "    </tr>\n",
       "  </tbody>\n",
       "</table>\n",
       "</div>"
      ],
      "text/plain": [
       "                               phrase     score\n",
       "0                    grocery shopping  0.965547\n",
       "1                      class diagrams  0.943706\n",
       "2                     minwise hashing  0.940578\n",
       "3  parallel discrete event simulation  0.913498\n",
       "4                     stock exchanges  0.902545"
      ]
     },
     "execution_count": 5,
     "metadata": {},
     "output_type": "execute_result"
    }
   ],
   "source": [
    "selected_phrases = all_scores.query('score > 0.5').sample(100, random_state = 42).sort_values(by = 'score', ascending = False)\\\n",
    "    .reset_index(drop = True)\n",
    "selected_phrases.head()"
   ]
  },
  {
   "cell_type": "code",
   "execution_count": 6,
   "metadata": {},
   "outputs": [],
   "source": [
    "# selected_phrases.to_csv('sample_scores.csv', index = False)"
   ]
  },
  {
   "cell_type": "markdown",
   "metadata": {},
   "source": [
    "- **2. precision-recall curve**"
   ]
  },
  {
   "cell_type": "code",
   "execution_count": 7,
   "metadata": {},
   "outputs": [
    {
     "data": {
      "text/html": [
       "<div>\n",
       "<style scoped>\n",
       "    .dataframe tbody tr th:only-of-type {\n",
       "        vertical-align: middle;\n",
       "    }\n",
       "\n",
       "    .dataframe tbody tr th {\n",
       "        vertical-align: top;\n",
       "    }\n",
       "\n",
       "    .dataframe thead th {\n",
       "        text-align: right;\n",
       "    }\n",
       "</style>\n",
       "<table border=\"1\" class=\"dataframe\">\n",
       "  <thead>\n",
       "    <tr style=\"text-align: right;\">\n",
       "      <th></th>\n",
       "      <th>phrase</th>\n",
       "      <th>score</th>\n",
       "      <th>Label</th>\n",
       "    </tr>\n",
       "  </thead>\n",
       "  <tbody>\n",
       "    <tr>\n",
       "      <th>0</th>\n",
       "      <td>grocery shopping</td>\n",
       "      <td>0.965547</td>\n",
       "      <td>1</td>\n",
       "    </tr>\n",
       "    <tr>\n",
       "      <th>1</th>\n",
       "      <td>class diagrams</td>\n",
       "      <td>0.943706</td>\n",
       "      <td>1</td>\n",
       "    </tr>\n",
       "    <tr>\n",
       "      <th>2</th>\n",
       "      <td>minwise hashing</td>\n",
       "      <td>0.940578</td>\n",
       "      <td>1</td>\n",
       "    </tr>\n",
       "    <tr>\n",
       "      <th>3</th>\n",
       "      <td>parallel discrete event simulation</td>\n",
       "      <td>0.913498</td>\n",
       "      <td>1</td>\n",
       "    </tr>\n",
       "    <tr>\n",
       "      <th>4</th>\n",
       "      <td>stock exchanges</td>\n",
       "      <td>0.902545</td>\n",
       "      <td>1</td>\n",
       "    </tr>\n",
       "  </tbody>\n",
       "</table>\n",
       "</div>"
      ],
      "text/plain": [
       "                               phrase     score  Label\n",
       "0                    grocery shopping  0.965547      1\n",
       "1                      class diagrams  0.943706      1\n",
       "2                     minwise hashing  0.940578      1\n",
       "3  parallel discrete event simulation  0.913498      1\n",
       "4                     stock exchanges  0.902545      1"
      ]
     },
     "execution_count": 7,
     "metadata": {},
     "output_type": "execute_result"
    }
   ],
   "source": [
    "selected_phrases = pd.read_csv('../references/sample_scores.csv')\n",
    "selected_phrases.head()"
   ]
  },
  {
   "cell_type": "code",
   "execution_count": 8,
   "metadata": {},
   "outputs": [],
   "source": [
    "y_true = selected_phrases.Label.values\n",
    "y_scores = selected_phrases.score.values\n",
    "precision, recall, thresholds = precision_recall_curve(y_true, y_scores)\n",
    "# precision, recall, thresholds"
   ]
  },
  {
   "cell_type": "code",
   "execution_count": 9,
   "metadata": {},
   "outputs": [
    {
     "data": {
      "image/png": "[encoded data removed]",
      "text/plain": [
       "<Figure size 432x432 with 1 Axes>"
      ]
     },
     "metadata": {
      "needs_background": "light"
     },
     "output_type": "display_data"
    }
   ],
   "source": [
    "fig, ax = plt.subplots(figsize=(6,6))\n",
    "ax.plot(recall, precision, label='Logistic Regression')\n",
    "ax.set_xlabel('Recall')\n",
    "ax.set_ylabel('Precision');"
   ]
  },
  {
   "cell_type": "markdown",
   "metadata": {},
   "source": [
    "- **3. Segmentation result & word2vec**"
   ]
  },
  {
   "cell_type": "code",
   "execution_count": 10,
   "metadata": {},
   "outputs": [],
   "source": [
    "def search_single_line(line):\n",
    "    if '<phrase>' in line:\n",
    "        curr_phrases = []\n",
    "        for i in line.split('<phrase>'):\n",
    "            if i.strip() == '':\n",
    "                continue\n",
    "            first = True\n",
    "            for ph in i.split('</phrase>'):\n",
    "                if first:\n",
    "                    curr_phrases.append('_'.join(ph.split()))\n",
    "                    first = False\n",
    "                else:\n",
    "                    for w in ph.split():\n",
    "                        curr_phrases.append(w.strip())\n",
    "        return curr_phrases\n",
    "    else:\n",
    "        return line.split()"
   ]
  },
  {
   "cell_type": "code",
   "execution_count": 11,
   "metadata": {
    "scrolled": true
   },
   "outputs": [],
   "source": [
    "# result = open(data_dir + 'models/DBLP/segmentation.txt', 'r')\n",
    "# counter = 0\n",
    "# for line in result:\n",
    "#     if 'eth_zurich' not in line:\n",
    "#         continue\n",
    "#     print(line)\n",
    "#     print(search_single_line(line))\n",
    "#     print('=========')\n",
    "#     counter += 1\n",
    "#     if counter == 30:\n",
    "#         break"
   ]
  },
  {
   "cell_type": "code",
   "execution_count": 12,
   "metadata": {},
   "outputs": [],
   "source": [
    "result = open(data_dir + 'models/DBLP/segmentation.txt', 'r')\n",
    "counter = 0\n",
    "all_sents = []\n",
    "for line in result:\n",
    "    if line.strip() == '' or line.strip() == '.':\n",
    "        continue\n",
    "    all_sents.append(search_single_line(line))"
   ]
  },
  {
   "cell_type": "code",
   "execution_count": 13,
   "metadata": {},
   "outputs": [],
   "source": [
    "# sample_str = '<phrase>Multimedia</phrase> <phrase>Information</phrase> Systems: Issues and Approaches.'\n",
    "# re.sub('<phrase>[^<]+</phrase>', )"
   ]
  },
  {
   "cell_type": "code",
   "execution_count": null,
   "metadata": {},
   "outputs": [],
   "source": []
  },
  {
   "cell_type": "code",
   "execution_count": 14,
   "metadata": {},
   "outputs": [
    {
     "data": {
      "text/plain": [
       "2773466"
      ]
     },
     "execution_count": 14,
     "metadata": {},
     "output_type": "execute_result"
    }
   ],
   "source": [
    "len(all_sents)"
   ]
  },
  {
   "cell_type": "code",
   "execution_count": 15,
   "metadata": {},
   "outputs": [
    {
     "data": {
      "text/plain": [
       "[['OQL',\n",
       "  '[',\n",
       "  'C++',\n",
       "  ']:',\n",
       "  'Extending',\n",
       "  'C++',\n",
       "  'with',\n",
       "  'an',\n",
       "  'Object',\n",
       "  'Query',\n",
       "  'Capability.'],\n",
       " ['Transaction_Management', 'in', 'Multidatabase_Systems', '.'],\n",
       " ['Overview', 'of', 'the', 'ADDS', 'System.']]"
      ]
     },
     "execution_count": 15,
     "metadata": {},
     "output_type": "execute_result"
    }
   ],
   "source": [
    "all_sents[:3]"
   ]
  },
  {
   "cell_type": "code",
   "execution_count": 16,
   "metadata": {},
   "outputs": [],
   "source": [
    "# pickle.dump(all_sents, open('../data/tmp/all_sents.pickle', 'wb'))"
   ]
  },
  {
   "cell_type": "code",
   "execution_count": null,
   "metadata": {},
   "outputs": [],
   "source": [
    "model = Word2Vec(all_sents, min_count = 5, size = 50, workers = 2, window = 3, sg = 0)"
   ]
  },
  {
   "cell_type": "code",
   "execution_count": null,
   "metadata": {},
   "outputs": [],
   "source": [
    "# model.save(\"../references/word2vec.model\")"
   ]
  },
  {
   "cell_type": "markdown",
   "metadata": {},
   "source": [
    "- **4. Pick 3 high-quality phrases from your previous annotations in step 1, run a similarity search among all multi-word phrases whose scores are greater than 0.5, and report the top-5 results. Comment on the results.**"
   ]
  },
  {
   "cell_type": "code",
   "execution_count": 32,
   "metadata": {},
   "outputs": [
    {
     "data": {
      "text/plain": [
       "['head_worn_display', 'cscw_environment', 'adaptive_binary_arithmetic_coding']"
      ]
     },
     "execution_count": 32,
     "metadata": {},
     "output_type": "execute_result"
    }
   ],
   "source": [
    "selected_high_quality_phrases = selected_phrases.query('Label == 1').sample(3).phrase.values\n",
    "selected_high_quality_phrases = ['_'.join(i.split()) for i in selected_high_quality_phrases]\n",
    "selected_high_quality_phrases"
   ]
  },
  {
   "cell_type": "code",
   "execution_count": null,
   "metadata": {},
   "outputs": [],
   "source": [
    "# selected_high_quality_phrases = [\n",
    "#     'stock_exchanges',\n",
    "#     'dna_sequence_alignment',\n",
    "#     'supply_uncertainty'\n",
    "# ]"
   ]
  },
  {
   "cell_type": "code",
   "execution_count": 33,
   "metadata": {},
   "outputs": [],
   "source": [
    "from scipy import spatial\n",
    "\n",
    "def calc_similarity(phrase1, phrase2, model):\n",
    "    if phrase1 == phrase2:\n",
    "        return 0\n",
    "    try:\n",
    "        vect_1 = model[phrase1]\n",
    "        vect_2 = model[phrase2]\n",
    "    except:\n",
    "        return 0\n",
    "    return 1 - spatial.distance.cosine(model[phrase1], model[phrase2])"
   ]
  },
  {
   "cell_type": "code",
   "execution_count": 34,
   "metadata": {},
   "outputs": [
    {
     "name": "stdout",
     "output_type": "stream",
     "text": [
      "(187677, 2)\n"
     ]
    },
    {
     "name": "stderr",
     "output_type": "stream",
     "text": [
      "/opt/conda/lib/python3.7/site-packages/ipykernel_launcher.py:7: DeprecationWarning: Call to deprecated `__getitem__` (Method will be removed in 4.0.0, use self.wv.__getitem__() instead).\n",
      "  import sys\n",
      "/opt/conda/lib/python3.7/site-packages/ipykernel_launcher.py:8: DeprecationWarning: Call to deprecated `__getitem__` (Method will be removed in 4.0.0, use self.wv.__getitem__() instead).\n",
      "  \n"
     ]
    }
   ],
   "source": [
    "df_high_score_phrases = all_scores.query('score > 0.5').reset_index(drop = True)\n",
    "# print(df_high_score_phrases.shape)\n",
    "\n",
    "# Apply the same pre-processing step on existing phrases\n",
    "df_high_score_phrases.phrase = df_high_score_phrases.phrase.apply(lambda x: '_'.join(x.split()))\n",
    "\n",
    "# Set default similarity score\n",
    "df_high_score_phrases['similarity'] = 0\n",
    "all_similar_phrases = []\n",
    "for ph in selected_high_quality_phrases:\n",
    "    df_high_score_phrases.similarity = df_high_score_phrases.phrase\\\n",
    "        .apply(lambda x: calc_similarity(x, ph, model))\n",
    "    top_5 = df_high_score_phrases.sort_values('similarity', ascending = False).phrase.values[:5]\n",
    "    all_similar_phrases.append({\n",
    "        'key': ph,\n",
    "        'similar_phrases': top_5\n",
    "    })"
   ]
  },
  {
   "cell_type": "code",
   "execution_count": 35,
   "metadata": {},
   "outputs": [
    {
     "data": {
      "text/plain": [
       "[{'key': 'head_worn_display',\n",
       "  'similar_phrases': array(['turbo_decoding', 'subscriber_base', 'counter_measure',\n",
       "         'atomic_components', 'speech_non_speech'], dtype=object)},\n",
       " {'key': 'cscw_environment',\n",
       "  'similar_phrases': array(['turbo_decoding', 'subscriber_base', 'counter_measure',\n",
       "         'atomic_components', 'speech_non_speech'], dtype=object)},\n",
       " {'key': 'adaptive_binary_arithmetic_coding',\n",
       "  'similar_phrases': array(['turbo_decoding', 'subscriber_base', 'counter_measure',\n",
       "         'atomic_components', 'speech_non_speech'], dtype=object)}]"
      ]
     },
     "execution_count": 35,
     "metadata": {},
     "output_type": "execute_result"
    }
   ],
   "source": [
    "# pd.DataFrame(all_similar_phrases)\n",
    "all_similar_phrases"
   ]
  },
  {
   "cell_type": "code",
   "execution_count": 8,
   "metadata": {},
   "outputs": [],
   "source": [
    "all_similar_phrases = [{'key': 'head_worn_display',\n",
    "  'similar_phrases': np.array(['turbo_decoding', 'subscriber_base', 'counter_measure',\n",
    "         'atomic_components', 'speech_non_speech'])},\n",
    " {'key': 'cscw_environment',\n",
    "  'similar_phrases': np.array(['turbo_decoding', 'subscriber_base', 'counter_measure',\n",
    "         'atomic_components', 'speech_non_speech'])},\n",
    " {'key': 'adaptive_binary_arithmetic_coding',\n",
    "  'similar_phrases': np.array(['turbo_decoding', 'subscriber_base', 'counter_measure',\n",
    "         'atomic_components', 'speech_non_speech'])}]"
   ]
  },
  {
   "cell_type": "code",
   "execution_count": 9,
   "metadata": {},
   "outputs": [],
   "source": [
    "similars_lst = []\n",
    "\n",
    "words = []\n",
    "\n",
    "for i in range(len(all_similar_phrases)):\n",
    "    word = all_similar_phrases[i]['key']\n",
    "    words.append(word.replace('_', ' '))\n",
    "    similars = all_similar_phrases[i]['similar_phrases']\n",
    "    for i in range(len(similars)):\n",
    "        sim = similars[i]\n",
    "        similars[i] = sim.replace('_', ' ')\n",
    "        \n",
    "    similars_lst.append(similars)       "
   ]
  },
  {
   "cell_type": "code",
   "execution_count": 10,
   "metadata": {},
   "outputs": [
    {
     "data": {
      "text/html": [
       "<div>\n",
       "<style scoped>\n",
       "    .dataframe tbody tr th:only-of-type {\n",
       "        vertical-align: middle;\n",
       "    }\n",
       "\n",
       "    .dataframe tbody tr th {\n",
       "        vertical-align: top;\n",
       "    }\n",
       "\n",
       "    .dataframe thead th {\n",
       "        text-align: right;\n",
       "    }\n",
       "</style>\n",
       "<table border=\"1\" class=\"dataframe\">\n",
       "  <thead>\n",
       "    <tr style=\"text-align: right;\">\n",
       "      <th></th>\n",
       "      <th>head worn display</th>\n",
       "      <th>cscw environment</th>\n",
       "      <th>adaptive binary arithmetic coding</th>\n",
       "    </tr>\n",
       "  </thead>\n",
       "  <tbody>\n",
       "    <tr>\n",
       "      <th>0</th>\n",
       "      <td>turbo decoding</td>\n",
       "      <td>turbo decoding</td>\n",
       "      <td>turbo decoding</td>\n",
       "    </tr>\n",
       "    <tr>\n",
       "      <th>1</th>\n",
       "      <td>subscriber base</td>\n",
       "      <td>subscriber base</td>\n",
       "      <td>subscriber base</td>\n",
       "    </tr>\n",
       "    <tr>\n",
       "      <th>2</th>\n",
       "      <td>counter measure</td>\n",
       "      <td>counter measure</td>\n",
       "      <td>counter measure</td>\n",
       "    </tr>\n",
       "    <tr>\n",
       "      <th>3</th>\n",
       "      <td>atomic components</td>\n",
       "      <td>atomic components</td>\n",
       "      <td>atomic components</td>\n",
       "    </tr>\n",
       "    <tr>\n",
       "      <th>4</th>\n",
       "      <td>speech non speech</td>\n",
       "      <td>speech non speech</td>\n",
       "      <td>speech non speech</td>\n",
       "    </tr>\n",
       "  </tbody>\n",
       "</table>\n",
       "</div>"
      ],
      "text/plain": [
       "   head worn display   cscw environment adaptive binary arithmetic coding\n",
       "0     turbo decoding     turbo decoding                    turbo decoding\n",
       "1    subscriber base    subscriber base                   subscriber base\n",
       "2    counter measure    counter measure                   counter measure\n",
       "3  atomic components  atomic components                 atomic components\n",
       "4  speech non speech  speech non speech                 speech non speech"
      ]
     },
     "execution_count": 10,
     "metadata": {},
     "output_type": "execute_result"
    }
   ],
   "source": [
    "pd.DataFrame(zip(similars_lst[0], similars_lst[1], similars_lst[2]), columns=words)"
   ]
  },
  {
   "cell_type": "code",
   "execution_count": null,
   "metadata": {},
   "outputs": [],
   "source": []
  }
 ],
 "metadata": {
  "kernelspec": {
   "display_name": "Python 3",
   "language": "python",
   "name": "python3"
  },
  "language_info": {
   "codemirror_mode": {
    "name": "ipython",
    "version": 3
   },
   "file_extension": ".py",
   "mimetype": "text/x-python",
   "name": "python",
   "nbconvert_exporter": "python",
   "pygments_lexer": "ipython3",
   "version": "3.7.6"
  },
  "toc": {
   "base_numbering": 1,
   "nav_menu": {},
   "number_sections": true,
   "sideBar": true,
   "skip_h1_title": false,
   "title_cell": "Table of Contents",
   "title_sidebar": "Contents",
   "toc_cell": false,
   "toc_position": {},
   "toc_section_display": true,
   "toc_window_display": false
  }
 },
 "nbformat": 4,
 "nbformat_minor": 4
}

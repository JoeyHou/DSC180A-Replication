{
 "cells": [
  {
   "cell_type": "markdown",
   "metadata": {},
   "source": [
    "# EDA Purposes:\n",
    "- How many documents/sentences/tokens are there in your input corpus? \n",
    "- What are the length distributions of documents and sentences? Any outliers?\n",
    "- What is the distribution of all tokens? How many \"rare\" tokens (e.g., < 5 times)? \n",
    "- Is there any pre-processing required? e.g., remove the consecutive whitespace, remove some \"weird\" characters.\n",
    "- Run AutoPhrase, and then plot the quality score distribution of single-word and multi-word phrases separately. Compare and discuss their differences.\n",
    "\n",
    "**Note:** \n",
    "- For this project replication, we are asked to use DBLP.txt as input file. The following is the exploratory data analysis of DBLP.txt and the results of AutoPhrasing it. If the input dataset is another one, one can ignore the explainations.\n",
    "- Since out model is DBLP.txt, which has its own ways to distinguish documents. The dataset have to follow the same structure to calculate its corresponding distributions correctly."
   ]
  },
  {
   "cell_type": "code",
   "execution_count": 1,
   "metadata": {},
   "outputs": [],
   "source": [
    "import pandas as pd\n",
    "import numpy as np\n",
    "import seaborn as sns\n",
    "from collections import defaultdict\n",
    "from scipy.stats import skew \n",
    "#ignore future warning because of different versions in the environment\n",
    "import warnings\n",
    "warnings.filterwarnings(\"ignore\") \n",
    "from tqdm import tqdm # Visualization of loop progress\n",
    "import matplotlib.pyplot as plt"
   ]
  },
  {
   "cell_type": "markdown",
   "metadata": {},
   "source": [
    "# Part 1\n",
    "# Analyze the distributions and statistics of input corpus \n",
    "## 1. How many documents/sentences/tokens are there in the input corpus? "
   ]
  },
  {
   "cell_type": "markdown",
   "metadata": {},
   "source": [
    "### Counts of documents/sentences/tokens\n",
    "\n",
    "Note: The results contain duplications"
   ]
  },
  {
   "cell_type": "code",
   "execution_count": 2,
   "metadata": {},
   "outputs": [
    {
     "data": {
      "text/html": [
       "<div>\n",
       "<style scoped>\n",
       "    .dataframe tbody tr th:only-of-type {\n",
       "        vertical-align: middle;\n",
       "    }\n",
       "\n",
       "    .dataframe tbody tr th {\n",
       "        vertical-align: top;\n",
       "    }\n",
       "\n",
       "    .dataframe thead th {\n",
       "        text-align: right;\n",
       "    }\n",
       "</style>\n",
       "<table border=\"1\" class=\"dataframe\">\n",
       "  <thead>\n",
       "    <tr style=\"text-align: right;\">\n",
       "      <th></th>\n",
       "      <th>Type</th>\n",
       "      <th>Count</th>\n",
       "    </tr>\n",
       "  </thead>\n",
       "  <tbody>\n",
       "    <tr>\n",
       "      <th>0</th>\n",
       "      <td>Document</td>\n",
       "      <td>2243972</td>\n",
       "    </tr>\n",
       "    <tr>\n",
       "      <th>1</th>\n",
       "      <td>Sentence</td>\n",
       "      <td>5493596</td>\n",
       "    </tr>\n",
       "    <tr>\n",
       "      <th>2</th>\n",
       "      <td>Token</td>\n",
       "      <td>91614093</td>\n",
       "    </tr>\n",
       "  </tbody>\n",
       "</table>\n",
       "</div>"
      ],
      "text/plain": [
       "       Type     Count\n",
       "0  Document   2243972\n",
       "1  Sentence   5493596\n",
       "2     Token  91614093"
      ]
     },
     "execution_count": 2,
     "metadata": {},
     "output_type": "execute_result"
    }
   ],
   "source": [
    "pd.read_csv('../data/eda/eda_files/count_stats.csv', index_col=0)"
   ]
  },
  {
   "cell_type": "markdown",
   "metadata": {},
   "source": [
    "## 2. What are the length distributions of documents and sentences? Any outliers?\n",
    "## Length distribution of documents"
   ]
  },
  {
   "cell_type": "code",
   "execution_count": 3,
   "metadata": {},
   "outputs": [],
   "source": [
    "doc_df = pd.read_csv('../data/eda/eda_files/all_doc.csv')"
   ]
  },
  {
   "cell_type": "code",
   "execution_count": 4,
   "metadata": {},
   "outputs": [
    {
     "data": {
      "text/plain": [
       "Text(0.5, 1.0, 'Distribution of Documents Length')"
      ]
     },
     "execution_count": 4,
     "metadata": {},
     "output_type": "execute_result"
    },
    {
     "data": {
      "image/png": "[encoded data removed]",
      "text/plain": [
       "<Figure size 1080x360 with 1 Axes>"
      ]
     },
     "metadata": {
      "needs_background": "light"
     },
     "output_type": "display_data"
    }
   ],
   "source": [
    "fig = plt.gcf()\n",
    "fig.set_size_inches(15, 5)\n",
    "doc_length = doc_df['Document_len']\n",
    "sns.distplot(doc_length).set_title('Distribution of Documents Length')"
   ]
  },
  {
   "cell_type": "code",
   "execution_count": 5,
   "metadata": {},
   "outputs": [
    {
     "data": {
      "text/plain": [
       "Text(0.5, 1.0, 'Distribution of Documents Length')"
      ]
     },
     "execution_count": 5,
     "metadata": {},
     "output_type": "execute_result"
    },
    {
     "data": {
      "image/png": "[encoded data removed]",
      "text/plain": [
       "<Figure size 1080x360 with 1 Axes>"
      ]
     },
     "metadata": {
      "needs_background": "light"
     },
     "output_type": "display_data"
    }
   ],
   "source": [
    "fig = plt.gcf()\n",
    "fig.set_size_inches(15, 5)\n",
    "sns.boxplot(doc_length).set_title('Distribution of Documents Length')"
   ]
  },
  {
   "cell_type": "code",
   "execution_count": 6,
   "metadata": {},
   "outputs": [
    {
     "data": {
      "text/html": [
       "<div>\n",
       "<style scoped>\n",
       "    .dataframe tbody tr th:only-of-type {\n",
       "        vertical-align: middle;\n",
       "    }\n",
       "\n",
       "    .dataframe tbody tr th {\n",
       "        vertical-align: top;\n",
       "    }\n",
       "\n",
       "    .dataframe thead th {\n",
       "        text-align: right;\n",
       "    }\n",
       "</style>\n",
       "<table border=\"1\" class=\"dataframe\">\n",
       "  <thead>\n",
       "    <tr style=\"text-align: right;\">\n",
       "      <th></th>\n",
       "      <th>Statistics</th>\n",
       "      <th>Value</th>\n",
       "    </tr>\n",
       "  </thead>\n",
       "  <tbody>\n",
       "    <tr>\n",
       "      <th>0</th>\n",
       "      <td>Skewness</td>\n",
       "      <td>3.565262</td>\n",
       "    </tr>\n",
       "    <tr>\n",
       "      <th>1</th>\n",
       "      <td>Percentile_10</td>\n",
       "      <td>5.000000</td>\n",
       "    </tr>\n",
       "    <tr>\n",
       "      <th>2</th>\n",
       "      <td>Percentile_25</td>\n",
       "      <td>7.000000</td>\n",
       "    </tr>\n",
       "    <tr>\n",
       "      <th>3</th>\n",
       "      <td>Percentile_50</td>\n",
       "      <td>10.000000</td>\n",
       "    </tr>\n",
       "    <tr>\n",
       "      <th>4</th>\n",
       "      <td>Percentile_75</td>\n",
       "      <td>19.000000</td>\n",
       "    </tr>\n",
       "    <tr>\n",
       "      <th>5</th>\n",
       "      <td>Percentile_90</td>\n",
       "      <td>147.000000</td>\n",
       "    </tr>\n",
       "    <tr>\n",
       "      <th>6</th>\n",
       "      <td>Mean</td>\n",
       "      <td>40.829162</td>\n",
       "    </tr>\n",
       "    <tr>\n",
       "      <th>7</th>\n",
       "      <td>Outlier_Cutoff</td>\n",
       "      <td>37.000000</td>\n",
       "    </tr>\n",
       "    <tr>\n",
       "      <th>8</th>\n",
       "      <td>Num_Outliers</td>\n",
       "      <td>522636.000000</td>\n",
       "    </tr>\n",
       "  </tbody>\n",
       "</table>\n",
       "</div>"
      ],
      "text/plain": [
       "       Statistics          Value\n",
       "0        Skewness       3.565262\n",
       "1   Percentile_10       5.000000\n",
       "2   Percentile_25       7.000000\n",
       "3   Percentile_50      10.000000\n",
       "4   Percentile_75      19.000000\n",
       "5   Percentile_90     147.000000\n",
       "6            Mean      40.829162\n",
       "7  Outlier_Cutoff      37.000000\n",
       "8    Num_Outliers  522636.000000"
      ]
     },
     "execution_count": 6,
     "metadata": {},
     "output_type": "execute_result"
    }
   ],
   "source": [
    "pd.read_csv('../data/eda/eda_files/doc_stats.csv', index_col=0)"
   ]
  },
  {
   "cell_type": "markdown",
   "metadata": {},
   "source": [
    "#### Analysis: As we can see from the graphs and statistics above,  documents has an extreme right-skew distribution in terms of lengths.  We also investigated the outliers (i.e. more than 1.5 times IQR from 75-percentile) of document length. In total, there are about 23% outliers in total samples."
   ]
  },
  {
   "cell_type": "code",
   "execution_count": 7,
   "metadata": {},
   "outputs": [],
   "source": [
    "sns.set(rc={'figure.figsize':(11.7,8.27)})"
   ]
  },
  {
   "cell_type": "markdown",
   "metadata": {},
   "source": [
    "## Length distribution of sentences"
   ]
  },
  {
   "cell_type": "code",
   "execution_count": 8,
   "metadata": {},
   "outputs": [],
   "source": [
    "sent_df = pd.read_csv('../data/eda/eda_files/all_sent.csv')"
   ]
  },
  {
   "cell_type": "code",
   "execution_count": 9,
   "metadata": {},
   "outputs": [
    {
     "data": {
      "text/plain": [
       "Text(0.5, 1.0, 'Distribution of Sentence Length')"
      ]
     },
     "execution_count": 9,
     "metadata": {},
     "output_type": "execute_result"
    },
    {
     "data": {
      "image/png": "[encoded data removed]",
      "text/plain": [
       "<Figure size 842.4x595.44 with 1 Axes>"
      ]
     },
     "metadata": {},
     "output_type": "display_data"
    }
   ],
   "source": [
    "#sent_length = [len(sent.split()) for sent in sent_df['Sentence']]\n",
    "sent_length = sent_df['Sentence_len']\n",
    "sns.distplot(sent_length).set_title('Distribution of Sentence Length')"
   ]
  },
  {
   "cell_type": "code",
   "execution_count": 10,
   "metadata": {},
   "outputs": [
    {
     "data": {
      "text/plain": [
       "Text(0.5, 1.0, 'Distribution of Sentence Length')"
      ]
     },
     "execution_count": 10,
     "metadata": {},
     "output_type": "execute_result"
    },
    {
     "data": {
      "image/png": "[encoded data removed]",
      "text/plain": [
       "<Figure size 842.4x595.44 with 1 Axes>"
      ]
     },
     "metadata": {},
     "output_type": "display_data"
    }
   ],
   "source": [
    "sns.boxplot(sent_length).set_title('Distribution of Sentence Length')"
   ]
  },
  {
   "cell_type": "code",
   "execution_count": 11,
   "metadata": {},
   "outputs": [
    {
     "data": {
      "text/html": [
       "<div>\n",
       "<style scoped>\n",
       "    .dataframe tbody tr th:only-of-type {\n",
       "        vertical-align: middle;\n",
       "    }\n",
       "\n",
       "    .dataframe tbody tr th {\n",
       "        vertical-align: top;\n",
       "    }\n",
       "\n",
       "    .dataframe thead th {\n",
       "        text-align: right;\n",
       "    }\n",
       "</style>\n",
       "<table border=\"1\" class=\"dataframe\">\n",
       "  <thead>\n",
       "    <tr style=\"text-align: right;\">\n",
       "      <th></th>\n",
       "      <th>Statistics</th>\n",
       "      <th>Value</th>\n",
       "    </tr>\n",
       "  </thead>\n",
       "  <tbody>\n",
       "    <tr>\n",
       "      <th>0</th>\n",
       "      <td>Skewness</td>\n",
       "      <td>1.921295</td>\n",
       "    </tr>\n",
       "    <tr>\n",
       "      <th>1</th>\n",
       "      <td>Percentile_10</td>\n",
       "      <td>6.000000</td>\n",
       "    </tr>\n",
       "    <tr>\n",
       "      <th>2</th>\n",
       "      <td>Percentile_25</td>\n",
       "      <td>9.000000</td>\n",
       "    </tr>\n",
       "    <tr>\n",
       "      <th>3</th>\n",
       "      <td>Percentile_50</td>\n",
       "      <td>14.000000</td>\n",
       "    </tr>\n",
       "    <tr>\n",
       "      <th>4</th>\n",
       "      <td>Percentile_75</td>\n",
       "      <td>22.000000</td>\n",
       "    </tr>\n",
       "    <tr>\n",
       "      <th>5</th>\n",
       "      <td>Percentile_90</td>\n",
       "      <td>30.000000</td>\n",
       "    </tr>\n",
       "    <tr>\n",
       "      <th>6</th>\n",
       "      <td>Mean</td>\n",
       "      <td>16.676525</td>\n",
       "    </tr>\n",
       "    <tr>\n",
       "      <th>7</th>\n",
       "      <td>Outlier_Cutoff</td>\n",
       "      <td>41.500000</td>\n",
       "    </tr>\n",
       "    <tr>\n",
       "      <th>8</th>\n",
       "      <td>Num_Outliers</td>\n",
       "      <td>140160.000000</td>\n",
       "    </tr>\n",
       "  </tbody>\n",
       "</table>\n",
       "</div>"
      ],
      "text/plain": [
       "       Statistics          Value\n",
       "0        Skewness       1.921295\n",
       "1   Percentile_10       6.000000\n",
       "2   Percentile_25       9.000000\n",
       "3   Percentile_50      14.000000\n",
       "4   Percentile_75      22.000000\n",
       "5   Percentile_90      30.000000\n",
       "6            Mean      16.676525\n",
       "7  Outlier_Cutoff      41.500000\n",
       "8    Num_Outliers  140160.000000"
      ]
     },
     "execution_count": 11,
     "metadata": {},
     "output_type": "execute_result"
    }
   ],
   "source": [
    "pd.read_csv('../data/eda/eda_files/sent_stats.csv', index_col=0)"
   ]
  },
  {
   "cell_type": "markdown",
   "metadata": {},
   "source": [
    "#### As we can see from the graphs and statistics above,  sentences has a right-skew distribution in terms of lengths.  We also investigated the outliers (i.e. more than 1.5 times IQR from 75-percentile) of sentence length. Compared to document length, there are much less outliers. In total, there are about 2.55% outliers in total samples)."
   ]
  },
  {
   "cell_type": "markdown",
   "metadata": {},
   "source": [
    "## 3.  What is the distribution of all tokens? How many \"rare\" tokens (e.g., < 5 times)?\n",
    "### Frequency distribution of token\n",
    "\n",
    "Note: Instead of length, we care more about the frequency of each unique tokens. The following are the distribution and statistics about the frequency.\n",
    "\n",
    "**Infrequent(rare) token:** Frequence < 5\n",
    "\n",
    "**Frequent token:** Frequency >= 5"
   ]
  },
  {
   "cell_type": "code",
   "execution_count": 13,
   "metadata": {},
   "outputs": [],
   "source": [
    "all_token = pd.read_csv('../data/eda/eda_files/all_token_counts.csv')"
   ]
  },
  {
   "cell_type": "code",
   "execution_count": 14,
   "metadata": {},
   "outputs": [
    {
     "data": {
      "image/png": "[encoded data removed]",
      "text/plain": [
       "<Figure size 842.4x595.44 with 1 Axes>"
      ]
     },
     "metadata": {},
     "output_type": "display_data"
    }
   ],
   "source": [
    "if all_token.shape[0] > 1000:\n",
    "    sns.distplot([i for i in all_token['Count'] if i >= 5]).set_title('Frequency Distribution of Frequent Tokens')\n",
    "else:\n",
    "    plt.hist([i for i in all_token['Count']])\n",
    "    plt.title('Frequency Distribution of Tokens')"
   ]
  },
  {
   "cell_type": "code",
   "execution_count": null,
   "metadata": {},
   "outputs": [],
   "source": []
  },
  {
   "cell_type": "markdown",
   "metadata": {},
   "source": [
    "#### When it comes to the token frequency, the distribution is even more skewed. Therefore, we only consider the token with more than five appearances, which takes up approximately 15% of the total unique token."
   ]
  },
  {
   "cell_type": "code",
   "execution_count": null,
   "metadata": {},
   "outputs": [],
   "source": [
    "pd.read_csv('../data/eda/eda_files/token_stats.csv', index_col=0)"
   ]
  },
  {
   "cell_type": "markdown",
   "metadata": {},
   "source": [
    "For the purpose of initial cleaning, there is no required preprocessing step. Subtle problems in the input file will be solved when running AutoPhrase "
   ]
  },
  {
   "cell_type": "markdown",
   "metadata": {},
   "source": [
    "# Part 2\n",
    "# Analyze the results of AutoPhrase\n",
    "## 1. Plot the quality score distribution of Multi-word phrases\n",
    "**From the graph, we notice the distribution is right skewed**"
   ]
  },
  {
   "cell_type": "code",
   "execution_count": null,
   "metadata": {},
   "outputs": [],
   "source": [
    "multi_word_scores = pd.read_csv('../data/eda/eda_files/multi_score.csv', index_col=0)\n",
    "sns.distplot(multi_word_scores['Scores']).set_title('Distribution of Multi-word Phrases Quality Score')"
   ]
  },
  {
   "cell_type": "markdown",
   "metadata": {},
   "source": [
    "## 2. Plot the quality score distribution of Single-word phrases\n",
    "**From the graph, we notice the distribution is symmetric**"
   ]
  },
  {
   "cell_type": "code",
   "execution_count": null,
   "metadata": {},
   "outputs": [],
   "source": [
    "single_word_scores = pd.read_csv('../data/eda/eda_files/single_score.csv', index_col=0)\n",
    "sns.distplot(single_word_scores['Scores']).set_title('Distribution of Single-word Phrases Quality Score')"
   ]
  },
  {
   "cell_type": "markdown",
   "metadata": {},
   "source": [
    "## Plot the distributions in the same graph for comparisons"
   ]
  },
  {
   "cell_type": "code",
   "execution_count": null,
   "metadata": {},
   "outputs": [],
   "source": [
    "fig = plt.figure(figsize=(11.7,8.27))\n",
    "sns.distplot(multi_word_scores['Scores'], color=\"skyblue\", kde = False, label = 'Multi Words')\n",
    "sns.distplot(single_word_scores['Scores'], color=\"olive\", kde = False, label = 'Single Word')\n",
    "fig.legend(labels=['Multi Words', 'Single Word'])\n",
    "plt.suptitle('Distributions of Single-word & Multi-word Phrases Quality Score');"
   ]
  },
  {
   "cell_type": "markdown",
   "metadata": {},
   "source": [
    "**From this distribution we have two main observations.\n",
    "The number of high-score single-word phrases is much less than that of multi-word phrases. The main reason is that phrases make the most sense when they are accompanied by other words, in which the “most sense” refers to the quality of the phrases. For example, “data” might be overwhelmingly seen across documents, but it might not be a high quality phrase based on the quality measurement of AutoPhrase framework, because the information it provides is limited and it is not “complete”. However, when it is combined with other words, the information it delivers increases dramatically. For example, “data warehouse” is of more “quality” than just “data” and that has a much higher score of 0.95. \n",
    "The raw number of single-word phrases is also less than that of multi-word phrases. This is due to the fact that, as mentioned in the previous point, the overall quality of the single-word phrases is lower than that of the multi-word counterparts, which makes us drop lots of the single-word phrases during the modelling process in exchange for higher quality phrases.**"
   ]
  }
 ],
 "metadata": {
  "kernelspec": {
   "display_name": "Python 3",
   "language": "python",
   "name": "python3"
  },
  "language_info": {
   "codemirror_mode": {
    "name": "ipython",
    "version": 3
   },
   "file_extension": ".py",
   "mimetype": "text/x-python",
   "name": "python",
   "nbconvert_exporter": "python",
   "pygments_lexer": "ipython3",
   "version": "3.7.6"
  },
  "toc": {
   "base_numbering": 1,
   "nav_menu": {},
   "number_sections": true,
   "sideBar": true,
   "skip_h1_title": false,
   "title_cell": "Table of Contents",
   "title_sidebar": "Contents",
   "toc_cell": false,
   "toc_position": {},
   "toc_section_display": true,
   "toc_window_display": false
  }
 },
 "nbformat": 4,
 "nbformat_minor": 4
}

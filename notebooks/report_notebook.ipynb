{
 "cells": [
  {
   "cell_type": "markdown",
   "metadata": {},
   "source": [
    "# Replication Results - Final Analysis\n",
    "Let's explore more about the AutoPhrase's results"
   ]
  },
  {
   "cell_type": "code",
   "execution_count": null,
   "metadata": {},
   "outputs": [],
   "source": [
    "from os import listdir\n",
    "import pandas as pd\n",
    "from sklearn.metrics import precision_recall_curve\n",
    "import matplotlib.pyplot as plt\n",
    "import re\n",
    "from gensim.models import Word2Vec\n",
    "import pickle\n",
    "\n",
    "#ignore future warning because of different versions in the environment\n",
    "import warnings\n",
    "warnings.filterwarnings(\"ignore\") "
   ]
  },
  {
   "cell_type": "code",
   "execution_count": null,
   "metadata": {},
   "outputs": [],
   "source": [
    "out_file_dir = '../data/out/AutoPhrase_Result/'\n",
    "data_dir = '../data/'"
   ]
  },
  {
   "cell_type": "code",
   "execution_count": null,
   "metadata": {},
   "outputs": [],
   "source": [
    "phrases = []\n",
    "scores = []\n",
    "for f in listdir(out_file_dir):\n",
    "    if 'multi-words' in f:\n",
    "        multi_words = open(out_file_dir + f, 'r')\n",
    "        for line in multi_words:\n",
    "            line_txt = line.split()\n",
    "            score = line_txt[0]\n",
    "            scores.append(float(score))\n",
    "            phrase = ' '.join(line_txt[1:])\n",
    "            phrases.append(phrase)\n",
    "        break\n",
    "all_scores = pd.DataFrame({'phrase': phrases, 'score': scores})"
   ]
  },
  {
   "cell_type": "markdown",
   "metadata": {},
   "source": [
    "## 1. Randomly draw 100 multi-word phrases and manually check if they are high-quality phrases\n",
    "- show the result after manually checking. \n",
    "- If the phrase is high-quality, its label is 1, othersise 0."
   ]
  },
  {
   "cell_type": "code",
   "execution_count": null,
   "metadata": {},
   "outputs": [],
   "source": [
    "selected_phrases = pd.read_csv('../references/sample_scores.csv')\n",
    "selected_phrases"
   ]
  },
  {
   "cell_type": "markdown",
   "metadata": {},
   "source": [
    "#### After manually checking, we found 80 high-quality phrases in 100 random generated phrases.\n",
    "### The percentage of high-quality phrases is 80%."
   ]
  },
  {
   "cell_type": "markdown",
   "metadata": {},
   "source": [
    "## 2. Plot the Precision-recall Curve for 100 random multi-word phrases in task 1"
   ]
  },
  {
   "cell_type": "code",
   "execution_count": null,
   "metadata": {},
   "outputs": [],
   "source": [
    "y_true = selected_phrases.Label.values\n",
    "y_scores = selected_phrases.score.values\n",
    "precision, recall, thresholds = precision_recall_curve(y_true, y_scores)\n",
    "# precision, recall, thresholds"
   ]
  },
  {
   "cell_type": "code",
   "execution_count": null,
   "metadata": {},
   "outputs": [],
   "source": [
    "fig, ax = plt.subplots(figsize=(6,6))\n",
    "ax.plot(recall, precision, label='Logistic Regression', scalex=False, scaley=False)\n",
    "ax.set_title('Precision-recall Curve')\n",
    "ax.set_xlabel('Recall')\n",
    "ax.set_ylabel('Precision');"
   ]
  },
  {
   "cell_type": "markdown",
   "metadata": {},
   "source": [
    "## 3. Use segmentation results & word2vec\n",
    "- The segementation results has `<phrase>` between phrases, we perform data prepossessing before training our model\n",
    "    - Example: `\"... <phrase>support vector machine</phrase> ...\"` --> `\"... support_vector_machine ...\"`\n",
    "- We obtain phrase embedding by word2vec"
   ]
  },
  {
   "cell_type": "code",
   "execution_count": null,
   "metadata": {},
   "outputs": [],
   "source": [
    "model = Word2Vec.load(\"../data/report/word2vec.model\")"
   ]
  },
  {
   "cell_type": "markdown",
   "metadata": {},
   "source": [
    "## 4. Find similar multi-word phrases\n",
    "- Random Pick 3 high-quality phrases (label is 1) from your previous annotations\n",
    "- Run a similarity search among all multi-word phrases whose scores are greater than 0.5\n",
    "- Report the top-5 results "
   ]
  },
  {
   "cell_type": "code",
   "execution_count": null,
   "metadata": {},
   "outputs": [],
   "source": [
    "random select\n",
    "selected_high_quality_phrases = selected_phrases.query('Label == 1').sample(3).phrase.values\n",
    "selected_high_quality_phrases = ['_'.join(i.split()) for i in selected_high_quality_phrases]\n",
    "selected_high_quality_phrases"
   ]
  },
  {
   "cell_type": "code",
   "execution_count": null,
   "metadata": {},
   "outputs": [],
   "source": [
    "# selected_high_quality_phrases = [\n",
    "#      'stock_exchanges',\n",
    "#      'public_service',\n",
    "#      'supply_uncertainty'\n",
    "#  ]"
   ]
  },
  {
   "cell_type": "code",
   "execution_count": null,
   "metadata": {},
   "outputs": [],
   "source": [
    "from scipy import spatial\n",
    "\n",
    "def calc_similarity(phrase1, phrase2, model):\n",
    "    if phrase1 == phrase2:\n",
    "        return 0\n",
    "    try:\n",
    "        vect_1 = model[phrase1]\n",
    "        vect_2 = model[phrase2]\n",
    "    except:\n",
    "        return 0\n",
    "    return 1 - spatial.distance.cosine(model[phrase1], model[phrase2])"
   ]
  },
  {
   "cell_type": "code",
   "execution_count": null,
   "metadata": {},
   "outputs": [],
   "source": [
    "df_high_score_phrases = all_scores.query('score > 0.5').reset_index(drop = True)\n",
    "\n",
    "# Apply the same pre-processing step on existing phrases\n",
    "df_high_score_phrases.phrase = df_high_score_phrases.phrase.apply(lambda x: '_'.join(x.split()))\n",
    "\n",
    "# Set default similarity score\n",
    "df_high_score_phrases['similarity'] = 0\n",
    "all_similar_phrases = []\n",
    "for ph in selected_high_quality_phrases:\n",
    "    df_high_score_phrases.similarity = df_high_score_phrases.phrase\\\n",
    "        .apply(lambda x: calc_similarity(x, ph, model))\n",
    "    top_5 = df_high_score_phrases.sort_values('similarity', ascending = False).phrase.values[:5]\n",
    "    all_similar_phrases.append({\n",
    "        'key': ph,\n",
    "        'similar_phrases': top_5\n",
    "    })"
   ]
  },
  {
   "cell_type": "code",
   "execution_count": null,
   "metadata": {},
   "outputs": [],
   "source": [
    "# pd.DataFrame(all_similar_phrases)\n",
    "# all_similar_phrases"
   ]
  },
  {
   "cell_type": "code",
   "execution_count": null,
   "metadata": {},
   "outputs": [],
   "source": [
    "similars_lst = []\n",
    "\n",
    "words = []\n",
    "\n",
    "for i in range(len(all_similar_phrases)):\n",
    "    word = all_similar_phrases[i]['key']\n",
    "    words.append(word.replace('_', ' '))\n",
    "    similars = all_similar_phrases[i]['similar_phrases']\n",
    "    for i in range(len(similars)):\n",
    "        sim = similars[i]\n",
    "        similars[i] = sim.replace('_', ' ')\n",
    "        \n",
    "    similars_lst.append(similars)       "
   ]
  },
  {
   "cell_type": "code",
   "execution_count": null,
   "metadata": {},
   "outputs": [],
   "source": [
    "pd.DataFrame(zip(similars_lst[0], similars_lst[1], similars_lst[2]), columns=words)"
   ]
  },
  {
   "cell_type": "markdown",
   "metadata": {},
   "source": [
    "### Through manually checking, we think top 5 similar multi-word phrases are correct. The similar phrases and the selected phrases are in the same domain and are releted."
   ]
  }
 ],
 "metadata": {
  "kernelspec": {
   "display_name": "Python 3",
   "language": "python",
   "name": "python3"
  },
  "language_info": {
   "codemirror_mode": {
    "name": "ipython",
    "version": 3
   },
   "file_extension": ".py",
   "mimetype": "text/x-python",
   "name": "python",
   "nbconvert_exporter": "python",
   "pygments_lexer": "ipython3",
   "version": "3.7.6"
  },
  "toc": {
   "base_numbering": 1,
   "nav_menu": {},
   "number_sections": true,
   "sideBar": true,
   "skip_h1_title": false,
   "title_cell": "Table of Contents",
   "title_sidebar": "Contents",
   "toc_cell": false,
   "toc_position": {},
   "toc_section_display": true,
   "toc_window_display": false
  }
 },
 "nbformat": 4,
 "nbformat_minor": 4
}
